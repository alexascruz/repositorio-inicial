{
  "nbformat": 4,
  "nbformat_minor": 0,
  "metadata": {
    "colab": {
      "provenance": [],
      "authorship_tag": "ABX9TyM3I5krBqapUirUbZx8N2jd",
      "include_colab_link": true
    },
    "kernelspec": {
      "name": "python3",
      "display_name": "Python 3"
    },
    "language_info": {
      "name": "python"
    }
  },
  "cells": [
    {
      "cell_type": "markdown",
      "metadata": {
        "id": "view-in-github",
        "colab_type": "text"
      },
      "source": [
        "<a href=\"https://colab.research.google.com/github/alexascruz/repositorio-inicial/blob/main/Untitled1.ipynb\" target=\"_parent\"><img src=\"https://colab.research.google.com/assets/colab-badge.svg\" alt=\"Open In Colab\"/></a>"
      ]
    },
    {
      "cell_type": "code",
      "source": [
        "#Sistema de gestão de notas de aluno\n",
        "nota_1 = int(input (\"Digite a nota do primeiro bimestre:\"))\n",
        "nota_2 = int(input (\"Digite a nota do segundo bimestre:\"))\n",
        "nota_3 = int(input (\"Digite a nota do terceiro bimestre:\"))\n",
        "nota_4 = int(input (\"Digite a nots do quarto bimestre:\"))\n",
        "\n",
        "#Calcula média das notas\n",
        "media_final = (nota_1 + nota_2 + nota_3 + nota_4) / 4\n",
        "\n",
        "print (f\"A nota final do aluno é: {media_final}\")\n",
        "\n",
        "#Verificação se o aluno(a) foi aprovado ou reprovado\n",
        "if media_final >= 7:\n",
        "        print (\"Aluno aprovado!\")\n",
        "else:\n",
        "        print (\"Aluno reprovado!\")"
      ],
      "metadata": {
        "colab": {
          "base_uri": "https://localhost:8080/"
        },
        "id": "e7teyOC4Zdmx",
        "outputId": "3ce07d7a-f1aa-45ee-8b2e-45616dc0ab1c"
      },
      "execution_count": 10,
      "outputs": [
        {
          "output_type": "stream",
          "name": "stdout",
          "text": [
            "Digite a nota do primeiro bimestre:0\n",
            "Digite a nota do segundo bimestre:0\n",
            "Digite a nota do terceiro bimestre:0\n",
            "Digite a nots do quarto bimestre:0\n",
            "A nota final do aluno é: 0.0\n",
            "Aluno reprovado!\n"
          ]
        }
      ]
    }
  ]
}