{
  "nbformat": 4,
  "nbformat_minor": 0,
  "metadata": {
    "colab": {
      "provenance": [],
      "authorship_tag": "ABX9TyO0MNJqC9uXfo/u+EmFVf1O",
      "include_colab_link": true
    },
    "kernelspec": {
      "name": "python3",
      "display_name": "Python 3"
    },
    "language_info": {
      "name": "python"
    }
  },
  "cells": [
    {
      "cell_type": "markdown",
      "metadata": {
        "id": "view-in-github",
        "colab_type": "text"
      },
      "source": [
        "<a href=\"https://colab.research.google.com/github/alexascruz/repositorio-inicial/blob/main/Untitled1.ipynb\" target=\"_parent\"><img src=\"https://colab.research.google.com/assets/colab-badge.svg\" alt=\"Open In Colab\"/></a>"
      ]
    },
    {
      "cell_type": "code",
      "source": [
        "#Sistema de gestão de notas de aluno\n",
        "nota_1 = int(input (\"Digite a nota do primeiro bimestre:\"))\n",
        "nota_2 = int(input (\"Digite a nota do segundo bimestre:\"))\n",
        "nota_3 = int(input (\"Digite a nota do terceiro bimestre:\"))\n",
        "nota_4 = int(input (\"Digite a nots do quarto bimestre:\"))\n",
        "\n",
        "#Calcula média das notas\n",
        "media_final = (nota_1 + nota_2 + nota_3 + nota_4) / 4\n",
        "\n",
        "print (f\"A nota final do aluno é: {media_final}\")"
      ],
      "metadata": {
        "colab": {
          "base_uri": "https://localhost:8080/"
        },
        "id": "e7teyOC4Zdmx",
        "outputId": "1fd63561-276a-4c89-883b-0f661d06a1fe"
      },
      "execution_count": 13,
      "outputs": [
        {
          "output_type": "stream",
          "name": "stdout",
          "text": [
            "Digite a nota do primeiro bimestre:5\n",
            "Digite a nota do segundo bimestre:6\n",
            "Digite a nota do terceiro bimestre:4\n",
            "Digite a nots do quarto bimestre:9\n",
            "A nota final do aluno é: 6.0\n"
          ]
        }
      ]
    }
  ]
}