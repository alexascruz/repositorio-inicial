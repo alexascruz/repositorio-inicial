{
  "nbformat": 4,
  "nbformat_minor": 0,
  "metadata": {
    "colab": {
      "provenance": [],
      "authorship_tag": "ABX9TyMW95Ey+NbOLyG++y58ZIsB",
      "include_colab_link": true
    },
    "kernelspec": {
      "name": "python3",
      "display_name": "Python 3"
    },
    "language_info": {
      "name": "python"
    }
  },
  "cells": [
    {
      "cell_type": "markdown",
      "metadata": {
        "id": "view-in-github",
        "colab_type": "text"
      },
      "source": [
        "<a href=\"https://colab.research.google.com/github/alexascruz/repositorio-inicial/blob/main/GestaoLivros.ipynb\" target=\"_parent\"><img src=\"https://colab.research.google.com/assets/colab-badge.svg\" alt=\"Open In Colab\"/></a>"
      ]
    },
    {
      "cell_type": "code",
      "execution_count": 5,
      "metadata": {
        "colab": {
          "base_uri": "https://localhost:8080/",
          "height": 715
        },
        "id": "f7iDfixmvQUD",
        "outputId": "3f6ff1bc-6ffc-4de1-f4e4-4b04fa4be41a"
      },
      "outputs": [
        {
          "output_type": "stream",
          "name": "stdout",
          "text": [
            "Insira o título do novo livro a ser cadastrado: Livro1\n",
            "Qual é o autor desse novo livro? Autor1\n",
            "Qual é o gênero do livro? Genero1\n",
            "Qual a quantidade inicial disponível? 7\n",
            "Livro cadastrado com sucesso! Deseja cadastrar outro livro? (s/n) s\n",
            "Insira o título do novo livro a ser cadastrado: Livro2\n",
            "Qual é o autor desse novo livro? Autor2\n",
            "Qual é o gênero do livro? Genero2\n",
            "Qual a quantidade inicial disponível? 4\n",
            "Livro cadastrado com sucesso! Deseja cadastrar outro livro? (s/n) n\n",
            "Livro1 Autor1 Genero1 7\n",
            "Livro2 Autor2 Genero2 4\n",
            "Qual livro você gostaria de buscar? Livro1\n",
            "livro: Livro1 na quantidade: 7\n"
          ]
        },
        {
          "output_type": "display_data",
          "data": {
            "text/plain": [
              "<Figure size 640x480 with 1 Axes>"
            ],
            "image/png": "[encoded data removed]"
          },
          "metadata": {}
        }
      ],
      "source": [
        "#Sistema de gestão de livros\n",
        "import matplotlib.pyplot as plt\n",
        "import sqlite3\n",
        "\n",
        "#Criando banco de dados e criando tabelas\n",
        "def Banco():\n",
        "  banco = sqlite3.connect('banco.db')\n",
        "  cursor = banco.cursor()\n",
        "\n",
        "  create_tbllivros = \"\"\"\n",
        "      CREATE TABLE IF NOT EXISTS TBLLIV (\n",
        "      ID INTEGER PRIMARY KEY,\n",
        "      NOMETITULO TEXT,\n",
        "      NOMEAUTOR TEXT,\n",
        "      GENERO TEXT,\n",
        "      QUANTIDADE INTEGER);\n",
        "\"\"\"\n",
        "\n",
        "  cursor.execute(create_tbllivros)\n",
        "  banco.commit()\n",
        "  banco.close()\n",
        "\n",
        "\n",
        "#1° Passo: Definição da classe livro\n",
        "class cLivros:\n",
        "  def __init__ (self, titulo, autor, genero, quantidade):\n",
        "    self.titulo = titulo\n",
        "    self.autor = autor\n",
        "    self.genero = genero\n",
        "    self.quantidade = quantidade\n",
        "\n",
        "#2° Passo: Inicialização de lista vazia, para armazenar os livros que serão cadastrados\n",
        "lista_Livros = []\n",
        "\n",
        "#3° Passo: Funções para gerenciar os livros (cadastro, listar todos os livros e buscar um livro pelo titulo)\n",
        "def CadastrarLivro ():\n",
        "  titulo = input(\"Insira o título do novo livro a ser cadastrado: \")\n",
        "  autor = input(\"Qual é o autor desse novo livro? \")\n",
        "  genero = input(\"Qual é o gênero do livro? \")\n",
        "  quantidade = int(input(\"Qual a quantidade inicial disponível? \"))\n",
        "  lv = cLivros(titulo, autor, genero, quantidade)\n",
        "  if lv:\n",
        "    lista_Livros.append(lv)\n",
        "  else:\n",
        "    print(\"Erro ao cadastrar livro\")\n",
        "\n",
        "def Cadastro():\n",
        "  while True:\n",
        "    CadastrarLivro()\n",
        "    if input(\"Livro cadastrado com sucesso! Deseja cadastrar outro livro? (s/n) \") == \"n\":\n",
        "      break\n",
        "\n",
        "def ListarTodosLivros ():\n",
        "  for elem_livro in lista_Livros:\n",
        "    print(elem_livro.titulo, elem_livro.autor, elem_livro.genero, elem_livro.quantidade)\n",
        "\n",
        "def BuscarLivro ():\n",
        "  busca = input(\"Qual livro você gostaria de buscar? \")\n",
        "  for elem_livro in lista_Livros:\n",
        "    if elem_livro.titulo == busca:\n",
        "      # print(elem_livro.titulo, elem_livro.autor, elem_livro.genero, elem_livro.quantidade)\n",
        "      return elem_livro\n",
        "    else:\n",
        "      print(\"Livro não encontrado!\")\n",
        "\n",
        "#Salvando os dados do livro cadastrado no banco\n",
        "def SalvarLivroBanco():\n",
        "  banco = sqlite3.connect('banco.db')\n",
        "  cursor = banco.cursor()\n",
        "  for elem_livro in lista_Livros:\n",
        "    cursor.execute(\"INSERT INTO TBLLIV (NOMETITULO, NOMEAUTOR, GENERO, QUANTIDADE) VALUES (?,?,?,?)\",(elem_livro.titulo, elem_livro.autor, elem_livro.genero, elem_livro.quantidade))\n",
        "  banco.commit()\n",
        "  banco.close()\n",
        "\n",
        "#Geração de gráfico\n",
        "def GerarGrafico():\n",
        "  eixox = []\n",
        "  eixoy = []\n",
        "  for elem_livro in lista_Livros:\n",
        "    eixox.append(elem_livro.genero)\n",
        "    eixoy.append(elem_livro.quantidade)\n",
        "\n",
        "  plt.bar(eixox, eixoy)\n",
        "  plt.title(\"Quantidade de livros por gênero\")\n",
        "  plt.xlabel(\"Gênero\")\n",
        "  plt.ylabel(\"Quantidade\")\n",
        "  plt.show()\n",
        "\n",
        "\n",
        "Banco()\n",
        "Cadastro()\n",
        "ListarTodosLivros()\n",
        "livro_buscado = BuscarLivro()\n",
        "print(f'livro: {livro_buscado.titulo} na quantidade: {livro_buscado.quantidade}')\n",
        "SalvarLivroBanco()\n",
        "GerarGrafico()"
      ]
    },
    {
      "cell_type": "code",
      "source": [
        "banco= sqlite3.connect('banco.db')\n",
        "cursor = banco.cursor()\n",
        "cursor.execute(\"SELECT * FROM TBLLIV\")\n",
        "print(cursor.fetchall())"
      ],
      "metadata": {
        "colab": {
          "base_uri": "https://localhost:8080/"
        },
        "id": "Ihy1DmPVsxn8",
        "outputId": "a3d6e447-1556-4591-cdb7-3e784f6165a5"
      },
      "execution_count": 7,
      "outputs": [
        {
          "output_type": "stream",
          "name": "stdout",
          "text": [
            "[(1, 'Livro1', 'Autor1', 'Genero1', 7), (2, 'Livro2', 'Autor2', 'Genero2', 4)]\n"
          ]
        }
      ]
    }
  ]
}